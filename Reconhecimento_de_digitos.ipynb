{
 "cells": [
  {
   "cell_type": "markdown",
   "metadata": {
    "id": "hKy1pLzsEklM"
   },
   "source": [
    "#Importando DataSet"
   ]
  },
  {
   "cell_type": "code",
   "execution_count": 1,
   "metadata": {
    "id": "2p-ju5W5wJAK"
   },
   "outputs": [],
   "source": [
    "import pandas as pd"
   ]
  },
  {
   "cell_type": "code",
   "execution_count": 2,
   "metadata": {
    "id": "4phAwh7k1D0_"
   },
   "outputs": [],
   "source": [
    "df = pd.read_csv('train.csv')"
   ]
  },
  {
   "cell_type": "code",
   "execution_count": 3,
   "metadata": {
    "colab": {
     "base_uri": "https://localhost:8080/"
    },
    "id": "Kay1YKHg1MtI",
    "outputId": "2ba1c2fe-99e5-4b5d-cf85-a53cdf6b2f34"
   },
   "outputs": [
    {
     "data": {
      "text/plain": [
       "(42000, 785)"
      ]
     },
     "execution_count": 3,
     "metadata": {},
     "output_type": "execute_result"
    }
   ],
   "source": [
    "#Formato df:\n",
    "df.shape"
   ]
  },
  {
   "cell_type": "code",
   "execution_count": 4,
   "metadata": {
    "colab": {
     "base_uri": "https://localhost:8080/",
     "height": 255
    },
    "id": "9zHTnhio1o2V",
    "outputId": "d21ef014-45d3-41a4-c690-9442ccbda09b"
   },
   "outputs": [
    {
     "data": {
      "text/html": [
       "<div>\n",
       "<style scoped>\n",
       "    .dataframe tbody tr th:only-of-type {\n",
       "        vertical-align: middle;\n",
       "    }\n",
       "\n",
       "    .dataframe tbody tr th {\n",
       "        vertical-align: top;\n",
       "    }\n",
       "\n",
       "    .dataframe thead th {\n",
       "        text-align: right;\n",
       "    }\n",
       "</style>\n",
       "<table border=\"1\" class=\"dataframe\">\n",
       "  <thead>\n",
       "    <tr style=\"text-align: right;\">\n",
       "      <th></th>\n",
       "      <th>label</th>\n",
       "      <th>pixel0</th>\n",
       "      <th>pixel1</th>\n",
       "      <th>pixel2</th>\n",
       "      <th>pixel3</th>\n",
       "      <th>pixel4</th>\n",
       "      <th>pixel5</th>\n",
       "      <th>pixel6</th>\n",
       "      <th>pixel7</th>\n",
       "      <th>pixel8</th>\n",
       "      <th>...</th>\n",
       "      <th>pixel774</th>\n",
       "      <th>pixel775</th>\n",
       "      <th>pixel776</th>\n",
       "      <th>pixel777</th>\n",
       "      <th>pixel778</th>\n",
       "      <th>pixel779</th>\n",
       "      <th>pixel780</th>\n",
       "      <th>pixel781</th>\n",
       "      <th>pixel782</th>\n",
       "      <th>pixel783</th>\n",
       "    </tr>\n",
       "  </thead>\n",
       "  <tbody>\n",
       "    <tr>\n",
       "      <th>0</th>\n",
       "      <td>1</td>\n",
       "      <td>0</td>\n",
       "      <td>0</td>\n",
       "      <td>0</td>\n",
       "      <td>0</td>\n",
       "      <td>0</td>\n",
       "      <td>0</td>\n",
       "      <td>0</td>\n",
       "      <td>0</td>\n",
       "      <td>0</td>\n",
       "      <td>...</td>\n",
       "      <td>0</td>\n",
       "      <td>0</td>\n",
       "      <td>0</td>\n",
       "      <td>0</td>\n",
       "      <td>0</td>\n",
       "      <td>0</td>\n",
       "      <td>0</td>\n",
       "      <td>0</td>\n",
       "      <td>0</td>\n",
       "      <td>0</td>\n",
       "    </tr>\n",
       "    <tr>\n",
       "      <th>1</th>\n",
       "      <td>0</td>\n",
       "      <td>0</td>\n",
       "      <td>0</td>\n",
       "      <td>0</td>\n",
       "      <td>0</td>\n",
       "      <td>0</td>\n",
       "      <td>0</td>\n",
       "      <td>0</td>\n",
       "      <td>0</td>\n",
       "      <td>0</td>\n",
       "      <td>...</td>\n",
       "      <td>0</td>\n",
       "      <td>0</td>\n",
       "      <td>0</td>\n",
       "      <td>0</td>\n",
       "      <td>0</td>\n",
       "      <td>0</td>\n",
       "      <td>0</td>\n",
       "      <td>0</td>\n",
       "      <td>0</td>\n",
       "      <td>0</td>\n",
       "    </tr>\n",
       "    <tr>\n",
       "      <th>2</th>\n",
       "      <td>1</td>\n",
       "      <td>0</td>\n",
       "      <td>0</td>\n",
       "      <td>0</td>\n",
       "      <td>0</td>\n",
       "      <td>0</td>\n",
       "      <td>0</td>\n",
       "      <td>0</td>\n",
       "      <td>0</td>\n",
       "      <td>0</td>\n",
       "      <td>...</td>\n",
       "      <td>0</td>\n",
       "      <td>0</td>\n",
       "      <td>0</td>\n",
       "      <td>0</td>\n",
       "      <td>0</td>\n",
       "      <td>0</td>\n",
       "      <td>0</td>\n",
       "      <td>0</td>\n",
       "      <td>0</td>\n",
       "      <td>0</td>\n",
       "    </tr>\n",
       "    <tr>\n",
       "      <th>3</th>\n",
       "      <td>4</td>\n",
       "      <td>0</td>\n",
       "      <td>0</td>\n",
       "      <td>0</td>\n",
       "      <td>0</td>\n",
       "      <td>0</td>\n",
       "      <td>0</td>\n",
       "      <td>0</td>\n",
       "      <td>0</td>\n",
       "      <td>0</td>\n",
       "      <td>...</td>\n",
       "      <td>0</td>\n",
       "      <td>0</td>\n",
       "      <td>0</td>\n",
       "      <td>0</td>\n",
       "      <td>0</td>\n",
       "      <td>0</td>\n",
       "      <td>0</td>\n",
       "      <td>0</td>\n",
       "      <td>0</td>\n",
       "      <td>0</td>\n",
       "    </tr>\n",
       "    <tr>\n",
       "      <th>4</th>\n",
       "      <td>0</td>\n",
       "      <td>0</td>\n",
       "      <td>0</td>\n",
       "      <td>0</td>\n",
       "      <td>0</td>\n",
       "      <td>0</td>\n",
       "      <td>0</td>\n",
       "      <td>0</td>\n",
       "      <td>0</td>\n",
       "      <td>0</td>\n",
       "      <td>...</td>\n",
       "      <td>0</td>\n",
       "      <td>0</td>\n",
       "      <td>0</td>\n",
       "      <td>0</td>\n",
       "      <td>0</td>\n",
       "      <td>0</td>\n",
       "      <td>0</td>\n",
       "      <td>0</td>\n",
       "      <td>0</td>\n",
       "      <td>0</td>\n",
       "    </tr>\n",
       "  </tbody>\n",
       "</table>\n",
       "<p>5 rows × 785 columns</p>\n",
       "</div>"
      ],
      "text/plain": [
       "   label  pixel0  pixel1  pixel2  pixel3  pixel4  pixel5  pixel6  pixel7  \\\n",
       "0      1       0       0       0       0       0       0       0       0   \n",
       "1      0       0       0       0       0       0       0       0       0   \n",
       "2      1       0       0       0       0       0       0       0       0   \n",
       "3      4       0       0       0       0       0       0       0       0   \n",
       "4      0       0       0       0       0       0       0       0       0   \n",
       "\n",
       "   pixel8  ...  pixel774  pixel775  pixel776  pixel777  pixel778  pixel779  \\\n",
       "0       0  ...         0         0         0         0         0         0   \n",
       "1       0  ...         0         0         0         0         0         0   \n",
       "2       0  ...         0         0         0         0         0         0   \n",
       "3       0  ...         0         0         0         0         0         0   \n",
       "4       0  ...         0         0         0         0         0         0   \n",
       "\n",
       "   pixel780  pixel781  pixel782  pixel783  \n",
       "0         0         0         0         0  \n",
       "1         0         0         0         0  \n",
       "2         0         0         0         0  \n",
       "3         0         0         0         0  \n",
       "4         0         0         0         0  \n",
       "\n",
       "[5 rows x 785 columns]"
      ]
     },
     "execution_count": 4,
     "metadata": {},
     "output_type": "execute_result"
    }
   ],
   "source": [
    "df.head()"
   ]
  },
  {
   "cell_type": "code",
   "execution_count": 5,
   "metadata": {
    "id": "LrFEzBsV1Z4Z"
   },
   "outputs": [],
   "source": [
    "from sklearn.model_selection import train_test_split"
   ]
  },
  {
   "cell_type": "code",
   "execution_count": 6,
   "metadata": {
    "id": "1NXSyr3l1lrS"
   },
   "outputs": [],
   "source": [
    "#Separando conjunto de teste e de treinamento:\n",
    "X_train, X_test, y_train, y_test = train_test_split(df.drop('label', axis=1), df['label'], test_size=0.3, random_state=42)"
   ]
  },
  {
   "cell_type": "code",
   "execution_count": 7,
   "metadata": {
    "colab": {
     "base_uri": "https://localhost:8080/"
    },
    "id": "IBbRm0B815ci",
    "outputId": "661fc573-590b-4d86-9691-8f2288415348"
   },
   "outputs": [
    {
     "data": {
      "text/plain": [
       "(29400, 784)"
      ]
     },
     "execution_count": 7,
     "metadata": {},
     "output_type": "execute_result"
    }
   ],
   "source": [
    "#Formato X_train:\n",
    "X_train.shape"
   ]
  },
  {
   "cell_type": "code",
   "execution_count": 8,
   "metadata": {
    "colab": {
     "base_uri": "https://localhost:8080/"
    },
    "id": "hJetp2qG17-e",
    "outputId": "be9f4ab3-4e5b-4e7b-95f2-691d4211921d"
   },
   "outputs": [
    {
     "data": {
      "text/plain": [
       "(29400,)"
      ]
     },
     "execution_count": 8,
     "metadata": {},
     "output_type": "execute_result"
    }
   ],
   "source": [
    "#Formato y_train:\n",
    "y_train.shape"
   ]
  },
  {
   "cell_type": "code",
   "execution_count": 9,
   "metadata": {
    "id": "QYTT112I19Kb"
   },
   "outputs": [],
   "source": [
    "import matplotlib.pyplot as plt"
   ]
  },
  {
   "cell_type": "code",
   "execution_count": 10,
   "metadata": {
    "colab": {
     "base_uri": "https://localhost:8080/",
     "height": 447
    },
    "id": "tPkkxAOO2BpE",
    "outputId": "d25e178b-cd64-420a-92e8-788936b5b4eb"
   },
   "outputs": [
    {
     "data": {
      "text/plain": [
       "<matplotlib.image.AxesImage at 0x2bb475a5010>"
      ]
     },
     "execution_count": 10,
     "metadata": {},
     "output_type": "execute_result"
    },
    {
     "data": {
      "image/png": "[encoded data removed]",
      "text/plain": [
       "<Figure size 640x480 with 1 Axes>"
      ]
     },
     "metadata": {},
     "output_type": "display_data"
    }
   ],
   "source": [
    "#Visualizando uma instância:\n",
    "plt.imshow(X_train.iloc[0].values.reshape(28, 28))"
   ]
  },
  {
   "cell_type": "code",
   "execution_count": 11,
   "metadata": {
    "id": "McFU9IJQ2HzY"
   },
   "outputs": [],
   "source": [
    "#Reformulando formato:\n",
    "X_train = X_train.values.reshape(X_train.shape[0], 28, 28, 1)\n",
    "X_test = X_test.values.reshape(X_test.shape[0], 28, 28, 1)"
   ]
  },
  {
   "cell_type": "code",
   "execution_count": 12,
   "metadata": {
    "colab": {
     "base_uri": "https://localhost:8080/"
    },
    "id": "2Vga8gUFApzk",
    "outputId": "ef28c7a0-b18f-4e28-f039-9b7dc9248fbf",
    "scrolled": true
   },
   "outputs": [
    {
     "name": "stdout",
     "output_type": "stream",
     "text": [
      "Requirement already satisfied: visualkeras in c:\\users\\luizc\\anaconda3\\lib\\site-packages (0.1.3)\n",
      "Requirement already satisfied: pillow>=6.2.0 in c:\\users\\luizc\\anaconda3\\lib\\site-packages (from visualkeras) (9.4.0)\n",
      "Requirement already satisfied: numpy>=1.18.1 in c:\\users\\luizc\\anaconda3\\lib\\site-packages (from visualkeras) (1.23.5)\n",
      "Requirement already satisfied: aggdraw>=1.3.11 in c:\\users\\luizc\\anaconda3\\lib\\site-packages (from visualkeras) (1.3.19)\n"
     ]
    }
   ],
   "source": [
    "!pip install visualkeras"
   ]
  },
  {
   "cell_type": "code",
   "execution_count": 13,
   "metadata": {
    "colab": {
     "base_uri": "https://localhost:8080/"
    },
    "id": "8gEXPfZ8BH1b",
    "outputId": "5a6fefbf-cd0c-4ace-a2b8-a33ced3b815b",
    "scrolled": true
   },
   "outputs": [
    {
     "name": "stdout",
     "output_type": "stream",
     "text": [
      "Requirement already satisfied: tensorflow in c:\\users\\luizc\\anaconda3\\lib\\site-packages (2.15.0)\n",
      "Requirement already satisfied: tensorflow-intel==2.15.0 in c:\\users\\luizc\\anaconda3\\lib\\site-packages (from tensorflow) (2.15.0)\n",
      "Requirement already satisfied: absl-py>=1.0.0 in c:\\users\\luizc\\anaconda3\\lib\\site-packages (from tensorflow-intel==2.15.0->tensorflow) (2.1.0)\n",
      "Requirement already satisfied: astunparse>=1.6.0 in c:\\users\\luizc\\anaconda3\\lib\\site-packages (from tensorflow-intel==2.15.0->tensorflow) (1.6.3)\n",
      "Requirement already satisfied: flatbuffers>=23.5.26 in c:\\users\\luizc\\anaconda3\\lib\\site-packages (from tensorflow-intel==2.15.0->tensorflow) (23.5.26)\n",
      "Requirement already satisfied: gast!=0.5.0,!=0.5.1,!=0.5.2,>=0.2.1 in c:\\users\\luizc\\anaconda3\\lib\\site-packages (from tensorflow-intel==2.15.0->tensorflow) (0.4.0)\n",
      "Requirement already satisfied: google-pasta>=0.1.1 in c:\\users\\luizc\\anaconda3\\lib\\site-packages (from tensorflow-intel==2.15.0->tensorflow) (0.2.0)\n",
      "Requirement already satisfied: h5py>=2.9.0 in c:\\users\\luizc\\anaconda3\\lib\\site-packages (from tensorflow-intel==2.15.0->tensorflow) (3.9.0)\n",
      "Requirement already satisfied: libclang>=13.0.0 in c:\\users\\luizc\\anaconda3\\lib\\site-packages (from tensorflow-intel==2.15.0->tensorflow) (16.0.6)\n",
      "Requirement already satisfied: ml-dtypes~=0.2.0 in c:\\users\\luizc\\anaconda3\\lib\\site-packages (from tensorflow-intel==2.15.0->tensorflow) (0.2.0)\n",
      "Requirement already satisfied: numpy<2.0.0,>=1.23.5 in c:\\users\\luizc\\anaconda3\\lib\\site-packages (from tensorflow-intel==2.15.0->tensorflow) (1.23.5)\n",
      "Requirement already satisfied: opt-einsum>=2.3.2 in c:\\users\\luizc\\anaconda3\\lib\\site-packages (from tensorflow-intel==2.15.0->tensorflow) (3.3.0)\n",
      "Requirement already satisfied: packaging in c:\\users\\luizc\\anaconda3\\lib\\site-packages (from tensorflow-intel==2.15.0->tensorflow) (23.1)\n",
      "Requirement already satisfied: protobuf!=4.21.0,!=4.21.1,!=4.21.2,!=4.21.3,!=4.21.4,!=4.21.5,<5.0.0dev,>=3.20.3 in c:\\users\\luizc\\anaconda3\\lib\\site-packages (from tensorflow-intel==2.15.0->tensorflow) (4.23.4)\n",
      "Requirement already satisfied: setuptools in c:\\users\\luizc\\anaconda3\\lib\\site-packages (from tensorflow-intel==2.15.0->tensorflow) (68.0.0)\n",
      "Requirement already satisfied: six>=1.12.0 in c:\\users\\luizc\\anaconda3\\lib\\site-packages (from tensorflow-intel==2.15.0->tensorflow) (1.16.0)\n",
      "Requirement already satisfied: termcolor>=1.1.0 in c:\\users\\luizc\\anaconda3\\lib\\site-packages (from tensorflow-intel==2.15.0->tensorflow) (2.4.0)\n",
      "Requirement already satisfied: typing-extensions>=3.6.6 in c:\\users\\luizc\\anaconda3\\lib\\site-packages (from tensorflow-intel==2.15.0->tensorflow) (4.5.0)\n",
      "Requirement already satisfied: wrapt<1.15,>=1.11.0 in c:\\users\\luizc\\anaconda3\\lib\\site-packages (from tensorflow-intel==2.15.0->tensorflow) (1.14.1)\n",
      "Requirement already satisfied: tensorflow-io-gcs-filesystem>=0.23.1 in c:\\users\\luizc\\anaconda3\\lib\\site-packages (from tensorflow-intel==2.15.0->tensorflow) (0.31.0)\n",
      "Requirement already satisfied: grpcio<2.0,>=1.24.3 in c:\\users\\luizc\\anaconda3\\lib\\site-packages (from tensorflow-intel==2.15.0->tensorflow) (1.60.1)\n",
      "Requirement already satisfied: tensorboard<2.16,>=2.15 in c:\\users\\luizc\\anaconda3\\lib\\site-packages (from tensorflow-intel==2.15.0->tensorflow) (2.15.1)\n",
      "Requirement already satisfied: tensorflow-estimator<2.16,>=2.15.0 in c:\\users\\luizc\\anaconda3\\lib\\site-packages (from tensorflow-intel==2.15.0->tensorflow) (2.15.0)\n",
      "Requirement already satisfied: keras<2.16,>=2.15.0 in c:\\users\\luizc\\anaconda3\\lib\\site-packages (from tensorflow-intel==2.15.0->tensorflow) (2.15.0)\n",
      "Requirement already satisfied: wheel<1.0,>=0.23.0 in c:\\users\\luizc\\anaconda3\\lib\\site-packages (from astunparse>=1.6.0->tensorflow-intel==2.15.0->tensorflow) (0.38.4)\n",
      "Requirement already satisfied: google-auth<3,>=1.6.3 in c:\\users\\luizc\\anaconda3\\lib\\site-packages (from tensorboard<2.16,>=2.15->tensorflow-intel==2.15.0->tensorflow) (2.27.0)\n",
      "Requirement already satisfied: google-auth-oauthlib<2,>=0.5 in c:\\users\\luizc\\anaconda3\\lib\\site-packages (from tensorboard<2.16,>=2.15->tensorflow-intel==2.15.0->tensorflow) (1.0.0)\n",
      "Requirement already satisfied: markdown>=2.6.8 in c:\\users\\luizc\\anaconda3\\lib\\site-packages (from tensorboard<2.16,>=2.15->tensorflow-intel==2.15.0->tensorflow) (3.4.1)\n",
      "Requirement already satisfied: requests<3,>=2.21.0 in c:\\users\\luizc\\anaconda3\\lib\\site-packages (from tensorboard<2.16,>=2.15->tensorflow-intel==2.15.0->tensorflow) (2.31.0)\n",
      "Requirement already satisfied: tensorboard-data-server<0.8.0,>=0.7.0 in c:\\users\\luizc\\anaconda3\\lib\\site-packages (from tensorboard<2.16,>=2.15->tensorflow-intel==2.15.0->tensorflow) (0.7.2)\n",
      "Requirement already satisfied: werkzeug>=1.0.1 in c:\\users\\luizc\\anaconda3\\lib\\site-packages (from tensorboard<2.16,>=2.15->tensorflow-intel==2.15.0->tensorflow) (2.2.3)\n",
      "Requirement already satisfied: cachetools<6.0,>=2.0.0 in c:\\users\\luizc\\anaconda3\\lib\\site-packages (from google-auth<3,>=1.6.3->tensorboard<2.16,>=2.15->tensorflow-intel==2.15.0->tensorflow) (5.3.2)\n",
      "Requirement already satisfied: pyasn1-modules>=0.2.1 in c:\\users\\luizc\\anaconda3\\lib\\site-packages (from google-auth<3,>=1.6.3->tensorboard<2.16,>=2.15->tensorflow-intel==2.15.0->tensorflow) (0.2.8)\n",
      "Requirement already satisfied: rsa<5,>=3.1.4 in c:\\users\\luizc\\anaconda3\\lib\\site-packages (from google-auth<3,>=1.6.3->tensorboard<2.16,>=2.15->tensorflow-intel==2.15.0->tensorflow) (4.9)\n",
      "Requirement already satisfied: requests-oauthlib>=0.7.0 in c:\\users\\luizc\\anaconda3\\lib\\site-packages (from google-auth-oauthlib<2,>=0.5->tensorboard<2.16,>=2.15->tensorflow-intel==2.15.0->tensorflow) (1.3.1)\n",
      "Requirement already satisfied: charset-normalizer<4,>=2 in c:\\users\\luizc\\anaconda3\\lib\\site-packages (from requests<3,>=2.21.0->tensorboard<2.16,>=2.15->tensorflow-intel==2.15.0->tensorflow) (2.0.4)\n",
      "Requirement already satisfied: idna<4,>=2.5 in c:\\users\\luizc\\anaconda3\\lib\\site-packages (from requests<3,>=2.21.0->tensorboard<2.16,>=2.15->tensorflow-intel==2.15.0->tensorflow) (3.4)\n",
      "Requirement already satisfied: urllib3<3,>=1.21.1 in c:\\users\\luizc\\anaconda3\\lib\\site-packages (from requests<3,>=2.21.0->tensorboard<2.16,>=2.15->tensorflow-intel==2.15.0->tensorflow) (1.26.16)\n",
      "Requirement already satisfied: certifi>=2017.4.17 in c:\\users\\luizc\\anaconda3\\lib\\site-packages (from requests<3,>=2.21.0->tensorboard<2.16,>=2.15->tensorflow-intel==2.15.0->tensorflow) (2024.2.2)\n",
      "Requirement already satisfied: MarkupSafe>=2.1.1 in c:\\users\\luizc\\anaconda3\\lib\\site-packages (from werkzeug>=1.0.1->tensorboard<2.16,>=2.15->tensorflow-intel==2.15.0->tensorflow) (2.1.1)\n",
      "Requirement already satisfied: pyasn1<0.5.0,>=0.4.6 in c:\\users\\luizc\\anaconda3\\lib\\site-packages (from pyasn1-modules>=0.2.1->google-auth<3,>=1.6.3->tensorboard<2.16,>=2.15->tensorflow-intel==2.15.0->tensorflow) (0.4.8)\n",
      "Requirement already satisfied: oauthlib>=3.0.0 in c:\\users\\luizc\\anaconda3\\lib\\site-packages (from requests-oauthlib>=0.7.0->google-auth-oauthlib<2,>=0.5->tensorboard<2.16,>=2.15->tensorflow-intel==2.15.0->tensorflow) (3.2.2)\n"
     ]
    }
   ],
   "source": [
    "!pip install tensorflow"
   ]
  },
  {
   "cell_type": "code",
   "execution_count": 14,
   "metadata": {
    "id": "2_VGlRxXBM16"
   },
   "outputs": [
    {
     "name": "stdout",
     "output_type": "stream",
     "text": [
      "WARNING:tensorflow:From C:\\Users\\luizc\\anaconda3\\Lib\\site-packages\\keras\\src\\losses.py:2976: The name tf.losses.sparse_softmax_cross_entropy is deprecated. Please use tf.compat.v1.losses.sparse_softmax_cross_entropy instead.\n",
      "\n"
     ]
    }
   ],
   "source": [
    "from tensorflow.keras.utils import to_categorical"
   ]
  },
  {
   "cell_type": "code",
   "execution_count": 15,
   "metadata": {
    "id": "PRKAH90E_7tc"
   },
   "outputs": [],
   "source": [
    "#Reformulando formato da etiquetas:\n",
    "y_train = to_categorical(y_train)\n",
    "y_test = to_categorical(y_test)"
   ]
  },
  {
   "cell_type": "code",
   "execution_count": 16,
   "metadata": {},
   "outputs": [],
   "source": [
    "#Normalizando:\n",
    "X_train = X_train / 255\n",
    "X_test = X_test / 255"
   ]
  },
  {
   "cell_type": "code",
   "execution_count": 17,
   "metadata": {
    "id": "SIvq53aZAi1Y"
   },
   "outputs": [],
   "source": [
    "from tensorflow import keras"
   ]
  },
  {
   "cell_type": "code",
   "execution_count": 18,
   "metadata": {
    "id": "dryZzmoHBtWp"
   },
   "outputs": [],
   "source": [
    "from keras.layers import Conv2D, MaxPooling2D, Flatten, Dense, Dropout"
   ]
  },
  {
   "cell_type": "code",
   "execution_count": 19,
   "metadata": {
    "id": "XjQOGiVDByNO"
   },
   "outputs": [],
   "source": [
    "from keras.models import Sequential"
   ]
  },
  {
   "cell_type": "markdown",
   "metadata": {
    "id": "kobsJBn4EiGs"
   },
   "source": [
    "1º experimento:"
   ]
  },
  {
   "cell_type": "code",
   "execution_count": 20,
   "metadata": {
    "colab": {
     "base_uri": "https://localhost:8080/"
    },
    "id": "2G0fbgljCA1w",
    "outputId": "f5a36911-fb72-4543-daf2-e0977d0c4adc"
   },
   "outputs": [
    {
     "name": "stdout",
     "output_type": "stream",
     "text": [
      "WARNING:tensorflow:From C:\\Users\\luizc\\anaconda3\\Lib\\site-packages\\keras\\src\\backend.py:873: The name tf.get_default_graph is deprecated. Please use tf.compat.v1.get_default_graph instead.\n",
      "\n",
      "WARNING:tensorflow:From C:\\Users\\luizc\\anaconda3\\Lib\\site-packages\\keras\\src\\layers\\pooling\\max_pooling2d.py:161: The name tf.nn.max_pool is deprecated. Please use tf.nn.max_pool2d instead.\n",
      "\n"
     ]
    }
   ],
   "source": [
    "model = Sequential()\n",
    "\n",
    "#Primeira camada convulacional:\n",
    "model.add(Conv2D(32, kernel_size=(3, 3), activation='relu', input_shape=(28, 28, 1)))\n",
    "\n",
    "#Primeira camada de pooling:\n",
    "model.add(MaxPooling2D(pool_size=(2, 2)))\n",
    "\n",
    "#Camada Flatten - converte o conjunto de imagens em um vetor unidimensional para a entrada da rede neural densa:\n",
    "model.add(Flatten())\n",
    "\n",
    "#Rede neural densa:\n",
    "model.add(Dense(32, activation='relu'))\n",
    "model.add(Dropout(0.2))\n",
    "model.add(Dense(10, activation='softmax'))"
   ]
  },
  {
   "cell_type": "code",
   "execution_count": 21,
   "metadata": {
    "id": "OZv2UdMbCorY"
   },
   "outputs": [
    {
     "name": "stdout",
     "output_type": "stream",
     "text": [
      "WARNING:tensorflow:From C:\\Users\\luizc\\anaconda3\\Lib\\site-packages\\keras\\src\\optimizers\\__init__.py:309: The name tf.train.Optimizer is deprecated. Please use tf.compat.v1.train.Optimizer instead.\n",
      "\n"
     ]
    }
   ],
   "source": [
    "model.compile(loss='categorical_crossentropy', optimizer='adam', metrics=['accuracy'])"
   ]
  },
  {
   "cell_type": "code",
   "execution_count": 22,
   "metadata": {
    "colab": {
     "base_uri": "https://localhost:8080/"
    },
    "id": "MYursu2bC9Kl",
    "outputId": "f5cef0d5-4cc7-48be-b59a-f5aff4a5db3b",
    "scrolled": true
   },
   "outputs": [
    {
     "name": "stdout",
     "output_type": "stream",
     "text": [
      "Epoch 1/40\n",
      "WARNING:tensorflow:From C:\\Users\\luizc\\anaconda3\\Lib\\site-packages\\keras\\src\\utils\\tf_utils.py:492: The name tf.ragged.RaggedTensorValue is deprecated. Please use tf.compat.v1.ragged.RaggedTensorValue instead.\n",
      "\n",
      "WARNING:tensorflow:From C:\\Users\\luizc\\anaconda3\\Lib\\site-packages\\keras\\src\\engine\\base_layer_utils.py:384: The name tf.executing_eagerly_outside_functions is deprecated. Please use tf.compat.v1.executing_eagerly_outside_functions instead.\n",
      "\n",
      "30/30 [==============================] - 5s 95ms/step - loss: 1.3690 - accuracy: 0.6141 - val_loss: 0.5542 - val_accuracy: 0.8594\n",
      "Epoch 2/40\n",
      "30/30 [==============================] - 3s 88ms/step - loss: 0.5709 - accuracy: 0.8283 - val_loss: 0.3441 - val_accuracy: 0.9040\n",
      "Epoch 3/40\n",
      "30/30 [==============================] - 4s 136ms/step - loss: 0.4208 - accuracy: 0.8745 - val_loss: 0.2759 - val_accuracy: 0.9185\n",
      "Epoch 4/40\n",
      "30/30 [==============================] - 3s 92ms/step - loss: 0.3518 - accuracy: 0.8966 - val_loss: 0.2319 - val_accuracy: 0.9321\n",
      "Epoch 5/40\n",
      "30/30 [==============================] - 5s 156ms/step - loss: 0.3020 - accuracy: 0.9096 - val_loss: 0.2014 - val_accuracy: 0.9428\n",
      "Epoch 6/40\n",
      "30/30 [==============================] - 3s 112ms/step - loss: 0.2642 - accuracy: 0.9229 - val_loss: 0.1756 - val_accuracy: 0.9509\n",
      "Epoch 7/40\n",
      "30/30 [==============================] - 4s 118ms/step - loss: 0.2316 - accuracy: 0.9317 - val_loss: 0.1564 - val_accuracy: 0.9568\n",
      "Epoch 8/40\n",
      "30/30 [==============================] - 2s 81ms/step - loss: 0.2053 - accuracy: 0.9407 - val_loss: 0.1397 - val_accuracy: 0.9613\n",
      "Epoch 9/40\n",
      "30/30 [==============================] - 4s 139ms/step - loss: 0.1861 - accuracy: 0.9455 - val_loss: 0.1272 - val_accuracy: 0.9644\n",
      "Epoch 10/40\n",
      "30/30 [==============================] - 4s 147ms/step - loss: 0.1698 - accuracy: 0.9500 - val_loss: 0.1183 - val_accuracy: 0.9669\n",
      "Epoch 11/40\n",
      "30/30 [==============================] - 3s 97ms/step - loss: 0.1576 - accuracy: 0.9544 - val_loss: 0.1078 - val_accuracy: 0.9697\n",
      "Epoch 12/40\n",
      "30/30 [==============================] - 3s 109ms/step - loss: 0.1457 - accuracy: 0.9578 - val_loss: 0.1010 - val_accuracy: 0.9714\n",
      "Epoch 13/40\n",
      "30/30 [==============================] - 4s 145ms/step - loss: 0.1308 - accuracy: 0.9622 - val_loss: 0.0951 - val_accuracy: 0.9729\n",
      "Epoch 14/40\n",
      "30/30 [==============================] - 3s 94ms/step - loss: 0.1262 - accuracy: 0.9614 - val_loss: 0.0921 - val_accuracy: 0.9740\n",
      "Epoch 15/40\n",
      "30/30 [==============================] - 4s 137ms/step - loss: 0.1188 - accuracy: 0.9651 - val_loss: 0.0907 - val_accuracy: 0.9737\n",
      "Epoch 16/40\n",
      "30/30 [==============================] - 4s 123ms/step - loss: 0.1138 - accuracy: 0.9660 - val_loss: 0.0852 - val_accuracy: 0.9755\n",
      "Epoch 17/40\n",
      "30/30 [==============================] - 4s 133ms/step - loss: 0.1069 - accuracy: 0.9680 - val_loss: 0.0819 - val_accuracy: 0.9767\n",
      "Epoch 18/40\n",
      "30/30 [==============================] - 6s 186ms/step - loss: 0.1005 - accuracy: 0.9698 - val_loss: 0.0805 - val_accuracy: 0.9763\n",
      "Epoch 19/40\n",
      "30/30 [==============================] - 2s 80ms/step - loss: 0.0985 - accuracy: 0.9709 - val_loss: 0.0807 - val_accuracy: 0.9756\n",
      "Epoch 20/40\n",
      "30/30 [==============================] - 5s 156ms/step - loss: 0.0925 - accuracy: 0.9729 - val_loss: 0.0751 - val_accuracy: 0.9779\n",
      "Epoch 21/40\n",
      "30/30 [==============================] - 2s 81ms/step - loss: 0.0874 - accuracy: 0.9743 - val_loss: 0.0754 - val_accuracy: 0.9773\n",
      "Epoch 22/40\n",
      "30/30 [==============================] - 3s 84ms/step - loss: 0.0829 - accuracy: 0.9756 - val_loss: 0.0731 - val_accuracy: 0.9785\n",
      "Epoch 23/40\n",
      "30/30 [==============================] - 3s 101ms/step - loss: 0.0822 - accuracy: 0.9759 - val_loss: 0.0710 - val_accuracy: 0.9792\n",
      "Epoch 24/40\n",
      "30/30 [==============================] - 4s 128ms/step - loss: 0.0796 - accuracy: 0.9760 - val_loss: 0.0707 - val_accuracy: 0.9796\n",
      "Epoch 25/40\n",
      "30/30 [==============================] - 4s 134ms/step - loss: 0.0783 - accuracy: 0.9764 - val_loss: 0.0697 - val_accuracy: 0.9793\n",
      "Epoch 26/40\n",
      "30/30 [==============================] - 4s 127ms/step - loss: 0.0731 - accuracy: 0.9785 - val_loss: 0.0671 - val_accuracy: 0.9799\n",
      "Epoch 27/40\n",
      "30/30 [==============================] - 4s 129ms/step - loss: 0.0718 - accuracy: 0.9783 - val_loss: 0.0668 - val_accuracy: 0.9800\n",
      "Epoch 28/40\n",
      "30/30 [==============================] - 4s 121ms/step - loss: 0.0697 - accuracy: 0.9789 - val_loss: 0.0662 - val_accuracy: 0.9810\n",
      "Epoch 29/40\n",
      "30/30 [==============================] - 4s 134ms/step - loss: 0.0683 - accuracy: 0.9796 - val_loss: 0.0677 - val_accuracy: 0.9797\n",
      "Epoch 30/40\n",
      "30/30 [==============================] - 4s 120ms/step - loss: 0.0648 - accuracy: 0.9808 - val_loss: 0.0653 - val_accuracy: 0.9798\n",
      "Epoch 31/40\n",
      "30/30 [==============================] - 3s 90ms/step - loss: 0.0642 - accuracy: 0.9804 - val_loss: 0.0662 - val_accuracy: 0.9802\n",
      "Epoch 32/40\n",
      "30/30 [==============================] - 4s 147ms/step - loss: 0.0598 - accuracy: 0.9823 - val_loss: 0.0647 - val_accuracy: 0.9811\n",
      "Epoch 33/40\n",
      "30/30 [==============================] - 2s 83ms/step - loss: 0.0593 - accuracy: 0.9807 - val_loss: 0.0641 - val_accuracy: 0.9802\n",
      "Epoch 34/40\n",
      "30/30 [==============================] - 5s 159ms/step - loss: 0.0555 - accuracy: 0.9829 - val_loss: 0.0653 - val_accuracy: 0.9811\n",
      "Epoch 35/40\n",
      "30/30 [==============================] - 2s 82ms/step - loss: 0.0557 - accuracy: 0.9834 - val_loss: 0.0625 - val_accuracy: 0.9814\n",
      "Epoch 36/40\n",
      "30/30 [==============================] - 3s 106ms/step - loss: 0.0530 - accuracy: 0.9837 - val_loss: 0.0617 - val_accuracy: 0.9827\n",
      "Epoch 37/40\n",
      "30/30 [==============================] - 4s 131ms/step - loss: 0.0534 - accuracy: 0.9835 - val_loss: 0.0628 - val_accuracy: 0.9814\n",
      "Epoch 38/40\n",
      "30/30 [==============================] - 3s 87ms/step - loss: 0.0527 - accuracy: 0.9829 - val_loss: 0.0633 - val_accuracy: 0.9812\n",
      "Epoch 39/40\n",
      "30/30 [==============================] - 3s 105ms/step - loss: 0.0493 - accuracy: 0.9845 - val_loss: 0.0616 - val_accuracy: 0.9816\n",
      "Epoch 40/40\n",
      "30/30 [==============================] - 3s 94ms/step - loss: 0.0483 - accuracy: 0.9861 - val_loss: 0.0615 - val_accuracy: 0.9817\n"
     ]
    }
   ],
   "source": [
    "history = model.fit(X_train, y_train, epochs=40, batch_size=1000, validation_data=(X_test, y_test))"
   ]
  },
  {
   "cell_type": "code",
   "execution_count": 23,
   "metadata": {
    "id": "IVpMK-jIDCou"
   },
   "outputs": [
    {
     "data": {
      "image/png": "[encoded data removed]",
      "text/plain": [
       "<Figure size 640x480 with 1 Axes>"
      ]
     },
     "metadata": {},
     "output_type": "display_data"
    }
   ],
   "source": [
    "plt.plot(history.history['accuracy'])\n",
    "plt.plot(history.history['val_accuracy'])\n",
    "plt.title('model accuracy')\n",
    "plt.ylabel('accuracy')\n",
    "plt.xlabel('epoch')\n",
    "plt.legend(['train', 'test'], loc='upper left')\n",
    "plt.show()"
   ]
  },
  {
   "cell_type": "markdown",
   "metadata": {
    "id": "x0VKSmJiE1FJ"
   },
   "source": [
    "2º experimento"
   ]
  },
  {
   "cell_type": "code",
   "execution_count": 24,
   "metadata": {},
   "outputs": [],
   "source": [
    "model2 = Sequential()\n",
    "\n",
    "#Primeira camada convolucional:\n",
    "model2.add(Conv2D(32, (3,3), activation='relu', input_shape=(28,28,1)))\n",
    "model2.add(Dropout(0.2))\n",
    "\n",
    "#Primeira camada pooling:\n",
    "model2.add(MaxPooling2D(pool_size=(2,2)))\n",
    "\n",
    "#Segunda camada convolucional:\n",
    "model2.add(Conv2D(64, (3,3), activation='relu', input_shape=(28,28,1)))\n",
    "model2.add(Dropout(0.2))\n",
    "\n",
    "#Segunda camada pooling:\n",
    "model2.add(MaxPooling2D(pool_size=(2,2)))\n",
    "\n",
    "#Camada flatten:\n",
    "model2.add(Flatten())\n",
    "\n",
    "#Camada rede neural densa:\n",
    "model2.add(Dense(32, activation='relu'))\n",
    "model2.add(Dense(32, activation='relu'))\n",
    "model2.add(Dropout(0.2))\n",
    "model2.add(Dense(10, activation='softmax'))"
   ]
  },
  {
   "cell_type": "code",
   "execution_count": 25,
   "metadata": {},
   "outputs": [],
   "source": [
    "model2.compile(loss='categorical_crossentropy', optimizer='adam', metrics=['accuracy'])"
   ]
  },
  {
   "cell_type": "code",
   "execution_count": 26,
   "metadata": {
    "scrolled": true
   },
   "outputs": [
    {
     "name": "stdout",
     "output_type": "stream",
     "text": [
      "Epoch 1/60\n",
      "30/30 [==============================] - 21s 638ms/step - loss: 1.6226 - accuracy: 0.4291 - val_loss: 0.8266 - val_accuracy: 0.8148\n",
      "Epoch 2/60\n",
      "30/30 [==============================] - 19s 642ms/step - loss: 0.6162 - accuracy: 0.8016 - val_loss: 0.3867 - val_accuracy: 0.9177\n",
      "Epoch 3/60\n",
      "30/30 [==============================] - 15s 515ms/step - loss: 0.3709 - accuracy: 0.8871 - val_loss: 0.2587 - val_accuracy: 0.9444\n",
      "Epoch 4/60\n",
      "30/30 [==============================] - 14s 463ms/step - loss: 0.2739 - accuracy: 0.9194 - val_loss: 0.1983 - val_accuracy: 0.9550\n",
      "Epoch 5/60\n",
      "30/30 [==============================] - 21s 672ms/step - loss: 0.2244 - accuracy: 0.9335 - val_loss: 0.1666 - val_accuracy: 0.9618\n",
      "Epoch 6/60\n",
      "30/30 [==============================] - 16s 556ms/step - loss: 0.1886 - accuracy: 0.9437 - val_loss: 0.1386 - val_accuracy: 0.9677\n",
      "Epoch 7/60\n",
      "30/30 [==============================] - 15s 514ms/step - loss: 0.1690 - accuracy: 0.9495 - val_loss: 0.1241 - val_accuracy: 0.9723\n",
      "Epoch 8/60\n",
      "30/30 [==============================] - 20s 667ms/step - loss: 0.1478 - accuracy: 0.9559 - val_loss: 0.1066 - val_accuracy: 0.9734\n",
      "Epoch 9/60\n",
      "30/30 [==============================] - 16s 542ms/step - loss: 0.1365 - accuracy: 0.9582 - val_loss: 0.1005 - val_accuracy: 0.9752\n",
      "Epoch 10/60\n",
      "30/30 [==============================] - 16s 536ms/step - loss: 0.1208 - accuracy: 0.9644 - val_loss: 0.0916 - val_accuracy: 0.9771\n",
      "Epoch 11/60\n",
      "30/30 [==============================] - 16s 538ms/step - loss: 0.1152 - accuracy: 0.9650 - val_loss: 0.0907 - val_accuracy: 0.9780\n",
      "Epoch 12/60\n",
      "30/30 [==============================] - 21s 690ms/step - loss: 0.1071 - accuracy: 0.9681 - val_loss: 0.0804 - val_accuracy: 0.9807\n",
      "Epoch 13/60\n",
      "30/30 [==============================] - 14s 484ms/step - loss: 0.0944 - accuracy: 0.9735 - val_loss: 0.0756 - val_accuracy: 0.9799\n",
      "Epoch 14/60\n",
      "30/30 [==============================] - 16s 529ms/step - loss: 0.0922 - accuracy: 0.9722 - val_loss: 0.0737 - val_accuracy: 0.9803\n",
      "Epoch 15/60\n",
      "30/30 [==============================] - 17s 592ms/step - loss: 0.0887 - accuracy: 0.9726 - val_loss: 0.0679 - val_accuracy: 0.9808\n",
      "Epoch 16/60\n",
      "30/30 [==============================] - 15s 500ms/step - loss: 0.0805 - accuracy: 0.9763 - val_loss: 0.0640 - val_accuracy: 0.9829\n",
      "Epoch 17/60\n",
      "30/30 [==============================] - 16s 529ms/step - loss: 0.0809 - accuracy: 0.9759 - val_loss: 0.0637 - val_accuracy: 0.9825\n",
      "Epoch 18/60\n",
      "30/30 [==============================] - 16s 549ms/step - loss: 0.0758 - accuracy: 0.9783 - val_loss: 0.0594 - val_accuracy: 0.9829\n",
      "Epoch 19/60\n",
      "30/30 [==============================] - 19s 601ms/step - loss: 0.0666 - accuracy: 0.9808 - val_loss: 0.0598 - val_accuracy: 0.9830\n",
      "Epoch 20/60\n",
      "30/30 [==============================] - 17s 567ms/step - loss: 0.0706 - accuracy: 0.9785 - val_loss: 0.0564 - val_accuracy: 0.9840\n",
      "Epoch 21/60\n",
      "30/30 [==============================] - 16s 540ms/step - loss: 0.0657 - accuracy: 0.9802 - val_loss: 0.0559 - val_accuracy: 0.9841\n",
      "Epoch 22/60\n",
      "30/30 [==============================] - 17s 550ms/step - loss: 0.0641 - accuracy: 0.9813 - val_loss: 0.0591 - val_accuracy: 0.9833\n",
      "Epoch 23/60\n",
      "30/30 [==============================] - 14s 435ms/step - loss: 0.0633 - accuracy: 0.9806 - val_loss: 0.0514 - val_accuracy: 0.9853\n",
      "Epoch 24/60\n",
      "30/30 [==============================] - 15s 481ms/step - loss: 0.0581 - accuracy: 0.9821 - val_loss: 0.0496 - val_accuracy: 0.9852\n",
      "Epoch 25/60\n",
      "30/30 [==============================] - 16s 494ms/step - loss: 0.0585 - accuracy: 0.9827 - val_loss: 0.0498 - val_accuracy: 0.9854\n",
      "Epoch 26/60\n",
      "30/30 [==============================] - 18s 609ms/step - loss: 0.0551 - accuracy: 0.9834 - val_loss: 0.0520 - val_accuracy: 0.9852\n",
      "Epoch 27/60\n",
      "30/30 [==============================] - 13s 414ms/step - loss: 0.0530 - accuracy: 0.9841 - val_loss: 0.0484 - val_accuracy: 0.9848\n",
      "Epoch 28/60\n",
      "30/30 [==============================] - 17s 542ms/step - loss: 0.0517 - accuracy: 0.9845 - val_loss: 0.0481 - val_accuracy: 0.9852\n",
      "Epoch 29/60\n",
      "30/30 [==============================] - 12s 407ms/step - loss: 0.0503 - accuracy: 0.9847 - val_loss: 0.0487 - val_accuracy: 0.9858\n",
      "Epoch 30/60\n",
      "30/30 [==============================] - 13s 424ms/step - loss: 0.0514 - accuracy: 0.9844 - val_loss: 0.0487 - val_accuracy: 0.9858\n",
      "Epoch 31/60\n",
      "30/30 [==============================] - 14s 471ms/step - loss: 0.0442 - accuracy: 0.9867 - val_loss: 0.0434 - val_accuracy: 0.9867\n",
      "Epoch 32/60\n",
      "30/30 [==============================] - 12s 399ms/step - loss: 0.0435 - accuracy: 0.9864 - val_loss: 0.0449 - val_accuracy: 0.9871\n",
      "Epoch 33/60\n",
      "30/30 [==============================] - 18s 608ms/step - loss: 0.0428 - accuracy: 0.9868 - val_loss: 0.0455 - val_accuracy: 0.9862\n",
      "Epoch 34/60\n",
      "30/30 [==============================] - 17s 566ms/step - loss: 0.0465 - accuracy: 0.9860 - val_loss: 0.0459 - val_accuracy: 0.9860\n",
      "Epoch 35/60\n",
      "30/30 [==============================] - 15s 512ms/step - loss: 0.0406 - accuracy: 0.9879 - val_loss: 0.0420 - val_accuracy: 0.9873\n",
      "Epoch 36/60\n",
      "30/30 [==============================] - 18s 605ms/step - loss: 0.0417 - accuracy: 0.9874 - val_loss: 0.0446 - val_accuracy: 0.9873\n",
      "Epoch 37/60\n",
      "30/30 [==============================] - 18s 593ms/step - loss: 0.0376 - accuracy: 0.9882 - val_loss: 0.0407 - val_accuracy: 0.9870\n",
      "Epoch 38/60\n",
      "30/30 [==============================] - 18s 606ms/step - loss: 0.0359 - accuracy: 0.9893 - val_loss: 0.0444 - val_accuracy: 0.9865\n",
      "Epoch 39/60\n",
      "30/30 [==============================] - 14s 474ms/step - loss: 0.0361 - accuracy: 0.9883 - val_loss: 0.0434 - val_accuracy: 0.9873\n",
      "Epoch 40/60\n",
      "30/30 [==============================] - 16s 536ms/step - loss: 0.0364 - accuracy: 0.9890 - val_loss: 0.0430 - val_accuracy: 0.9871\n",
      "Epoch 41/60\n",
      "30/30 [==============================] - 20s 635ms/step - loss: 0.0367 - accuracy: 0.9887 - val_loss: 0.0415 - val_accuracy: 0.9875\n",
      "Epoch 42/60\n",
      "30/30 [==============================] - 16s 537ms/step - loss: 0.0339 - accuracy: 0.9892 - val_loss: 0.0421 - val_accuracy: 0.9878\n",
      "Epoch 43/60\n",
      "30/30 [==============================] - 16s 541ms/step - loss: 0.0348 - accuracy: 0.9890 - val_loss: 0.0433 - val_accuracy: 0.9869\n",
      "Epoch 44/60\n",
      "30/30 [==============================] - 16s 544ms/step - loss: 0.0315 - accuracy: 0.9894 - val_loss: 0.0405 - val_accuracy: 0.9883\n",
      "Epoch 45/60\n",
      "30/30 [==============================] - 15s 477ms/step - loss: 0.0319 - accuracy: 0.9899 - val_loss: 0.0442 - val_accuracy: 0.9867\n",
      "Epoch 46/60\n",
      "30/30 [==============================] - 15s 453ms/step - loss: 0.0306 - accuracy: 0.9903 - val_loss: 0.0420 - val_accuracy: 0.9879\n",
      "Epoch 47/60\n",
      "30/30 [==============================] - 16s 484ms/step - loss: 0.0288 - accuracy: 0.9912 - val_loss: 0.0431 - val_accuracy: 0.9882\n",
      "Epoch 48/60\n",
      "30/30 [==============================] - 16s 509ms/step - loss: 0.0291 - accuracy: 0.9907 - val_loss: 0.0408 - val_accuracy: 0.9870\n",
      "Epoch 49/60\n",
      "30/30 [==============================] - 14s 460ms/step - loss: 0.0274 - accuracy: 0.9908 - val_loss: 0.0399 - val_accuracy: 0.9881\n",
      "Epoch 50/60\n",
      "30/30 [==============================] - 17s 575ms/step - loss: 0.0274 - accuracy: 0.9914 - val_loss: 0.0389 - val_accuracy: 0.9888\n",
      "Epoch 51/60\n",
      "30/30 [==============================] - 15s 495ms/step - loss: 0.0243 - accuracy: 0.9925 - val_loss: 0.0421 - val_accuracy: 0.9883\n",
      "Epoch 52/60\n",
      "30/30 [==============================] - 16s 537ms/step - loss: 0.0307 - accuracy: 0.9900 - val_loss: 0.0416 - val_accuracy: 0.9876\n",
      "Epoch 53/60\n",
      "30/30 [==============================] - 17s 540ms/step - loss: 0.0280 - accuracy: 0.9909 - val_loss: 0.0415 - val_accuracy: 0.9883\n",
      "Epoch 54/60\n",
      "30/30 [==============================] - 16s 552ms/step - loss: 0.0237 - accuracy: 0.9924 - val_loss: 0.0428 - val_accuracy: 0.9872\n",
      "Epoch 55/60\n",
      "30/30 [==============================] - 17s 548ms/step - loss: 0.0242 - accuracy: 0.9921 - val_loss: 0.0381 - val_accuracy: 0.9890\n",
      "Epoch 56/60\n",
      "30/30 [==============================] - 15s 508ms/step - loss: 0.0228 - accuracy: 0.9932 - val_loss: 0.0389 - val_accuracy: 0.9889\n",
      "Epoch 57/60\n",
      "30/30 [==============================] - 16s 554ms/step - loss: 0.0233 - accuracy: 0.9925 - val_loss: 0.0393 - val_accuracy: 0.9888\n",
      "Epoch 58/60\n",
      "30/30 [==============================] - 15s 466ms/step - loss: 0.0221 - accuracy: 0.9929 - val_loss: 0.0413 - val_accuracy: 0.9883\n",
      "Epoch 59/60\n",
      "30/30 [==============================] - 17s 529ms/step - loss: 0.0232 - accuracy: 0.9925 - val_loss: 0.0393 - val_accuracy: 0.9894\n",
      "Epoch 60/60\n",
      "30/30 [==============================] - 13s 438ms/step - loss: 0.0230 - accuracy: 0.9920 - val_loss: 0.0390 - val_accuracy: 0.9890\n"
     ]
    }
   ],
   "source": [
    "history2 = model2.fit(X_train, y_train, epochs=60, batch_size=1000, validation_data=(X_test, y_test))"
   ]
  },
  {
   "cell_type": "markdown",
   "metadata": {},
   "source": [
    "3º experimento:"
   ]
  },
  {
   "cell_type": "code",
   "execution_count": 27,
   "metadata": {},
   "outputs": [],
   "source": [
    "model3 = Sequential()\n",
    "\n",
    "#Primeira camada convolucional:\n",
    "model3.add(Conv2D(32, (3,3), activation='relu', padding='same', input_shape=(28,28,1)))\n",
    "model3.add(Dropout(0.2))\n",
    "\n",
    "#Segunda camada convolucional:\n",
    "model3.add(Conv2D(64, (3,3), activation='relu', padding='same', input_shape=(28,28,1)))\n",
    "model3.add(Dropout(0.2))\n",
    "\n",
    "#Primeira camada pooling:\n",
    "model3.add(MaxPooling2D(pool_size=(2,2)))\n",
    "\n",
    "#Segunda camada convolucional:\n",
    "model3.add(Conv2D(128, (3,3), activation='relu', padding='same', input_shape=(28,28,1)))\n",
    "model3.add(Dropout(0.3))\n",
    "\n",
    "#Segunda camada pooling:\n",
    "model3.add(MaxPooling2D(pool_size=(2,2)))\n",
    "\n",
    "#Camada flatten:\n",
    "model3.add(Flatten())\n",
    "\n",
    "#Camada rede neural densa:\n",
    "model3.add(Dense(32, activation='relu'))\n",
    "model3.add(Dropout(0.3))\n",
    "model3.add(Dense(32, activation='relu'))\n",
    "model3.add(Dropout(0.4))\n",
    "model3.add(Dense(10, activation='softmax'))"
   ]
  },
  {
   "cell_type": "code",
   "execution_count": 28,
   "metadata": {},
   "outputs": [],
   "source": [
    "model3.compile(loss='categorical_crossentropy', optimizer='adam', metrics=['accuracy'])"
   ]
  },
  {
   "cell_type": "code",
   "execution_count": 29,
   "metadata": {
    "scrolled": true
   },
   "outputs": [
    {
     "name": "stdout",
     "output_type": "stream",
     "text": [
      "Epoch 1/100\n",
      "30/30 [==============================] - 78s 3s/step - loss: 1.4938 - accuracy: 0.4704 - val_loss: 0.7157 - val_accuracy: 0.8712\n",
      "Epoch 2/100\n",
      "30/30 [==============================] - 80s 3s/step - loss: 0.6883 - accuracy: 0.7677 - val_loss: 0.2881 - val_accuracy: 0.9440\n",
      "Epoch 3/100\n",
      "30/30 [==============================] - 78s 3s/step - loss: 0.4058 - accuracy: 0.8706 - val_loss: 0.1704 - val_accuracy: 0.9622\n",
      "Epoch 4/100\n",
      "30/30 [==============================] - 80s 3s/step - loss: 0.2855 - accuracy: 0.9139 - val_loss: 0.1305 - val_accuracy: 0.9721\n",
      "Epoch 5/100\n",
      "30/30 [==============================] - 82s 3s/step - loss: 0.2249 - accuracy: 0.9316 - val_loss: 0.1025 - val_accuracy: 0.9753\n",
      "Epoch 6/100\n",
      "30/30 [==============================] - 86s 3s/step - loss: 0.1888 - accuracy: 0.9435 - val_loss: 0.0878 - val_accuracy: 0.9771\n",
      "Epoch 7/100\n",
      "30/30 [==============================] - 77s 3s/step - loss: 0.1652 - accuracy: 0.9500 - val_loss: 0.0714 - val_accuracy: 0.9810\n",
      "Epoch 8/100\n",
      "30/30 [==============================] - 78s 3s/step - loss: 0.1482 - accuracy: 0.9547 - val_loss: 0.0648 - val_accuracy: 0.9828\n",
      "Epoch 9/100\n",
      "30/30 [==============================] - 80s 3s/step - loss: 0.1302 - accuracy: 0.9596 - val_loss: 0.0588 - val_accuracy: 0.9847\n",
      "Epoch 10/100\n",
      "30/30 [==============================] - 81s 3s/step - loss: 0.1215 - accuracy: 0.9632 - val_loss: 0.0560 - val_accuracy: 0.9844\n",
      "Epoch 11/100\n",
      "30/30 [==============================] - 81s 3s/step - loss: 0.1133 - accuracy: 0.9659 - val_loss: 0.0510 - val_accuracy: 0.9863\n",
      "Epoch 12/100\n",
      "30/30 [==============================] - 82s 3s/step - loss: 0.0996 - accuracy: 0.9710 - val_loss: 0.0549 - val_accuracy: 0.9840\n",
      "Epoch 13/100\n",
      "30/30 [==============================] - 79s 3s/step - loss: 0.0988 - accuracy: 0.9694 - val_loss: 0.0489 - val_accuracy: 0.9859\n",
      "Epoch 14/100\n",
      "30/30 [==============================] - 80s 3s/step - loss: 0.0893 - accuracy: 0.9728 - val_loss: 0.0456 - val_accuracy: 0.9864\n",
      "Epoch 15/100\n",
      "30/30 [==============================] - 80s 3s/step - loss: 0.0833 - accuracy: 0.9740 - val_loss: 0.0446 - val_accuracy: 0.9871\n",
      "Epoch 16/100\n",
      "30/30 [==============================] - 78s 3s/step - loss: 0.0768 - accuracy: 0.9766 - val_loss: 0.0417 - val_accuracy: 0.9883\n",
      "Epoch 17/100\n",
      "30/30 [==============================] - 81s 3s/step - loss: 0.0853 - accuracy: 0.9738 - val_loss: 0.0446 - val_accuracy: 0.9879\n",
      "Epoch 18/100\n",
      "30/30 [==============================] - 82s 3s/step - loss: 0.0712 - accuracy: 0.9785 - val_loss: 0.0437 - val_accuracy: 0.9877\n",
      "Epoch 19/100\n",
      "30/30 [==============================] - 79s 3s/step - loss: 0.0717 - accuracy: 0.9773 - val_loss: 0.0437 - val_accuracy: 0.9879\n",
      "Epoch 20/100\n",
      "30/30 [==============================] - 80s 3s/step - loss: 0.0686 - accuracy: 0.9793 - val_loss: 0.0414 - val_accuracy: 0.9883\n",
      "Epoch 21/100\n",
      "30/30 [==============================] - 78s 3s/step - loss: 0.0660 - accuracy: 0.9798 - val_loss: 0.0399 - val_accuracy: 0.9884\n",
      "Epoch 22/100\n",
      "30/30 [==============================] - 78s 3s/step - loss: 0.0560 - accuracy: 0.9832 - val_loss: 0.0391 - val_accuracy: 0.9893\n",
      "Epoch 23/100\n",
      "30/30 [==============================] - 86s 3s/step - loss: 0.0612 - accuracy: 0.9812 - val_loss: 0.0394 - val_accuracy: 0.9878\n",
      "Epoch 24/100\n",
      "30/30 [==============================] - 75s 3s/step - loss: 0.0559 - accuracy: 0.9820 - val_loss: 0.0385 - val_accuracy: 0.9890\n",
      "Epoch 25/100\n",
      "30/30 [==============================] - 68s 2s/step - loss: 0.0567 - accuracy: 0.9822 - val_loss: 0.0388 - val_accuracy: 0.9891\n",
      "Epoch 26/100\n",
      "30/30 [==============================] - 58s 2s/step - loss: 0.0533 - accuracy: 0.9838 - val_loss: 0.0429 - val_accuracy: 0.9886\n",
      "Epoch 27/100\n",
      "30/30 [==============================] - 58s 2s/step - loss: 0.0481 - accuracy: 0.9843 - val_loss: 0.0378 - val_accuracy: 0.9889\n",
      "Epoch 28/100\n",
      "30/30 [==============================] - 60s 2s/step - loss: 0.0468 - accuracy: 0.9847 - val_loss: 0.0357 - val_accuracy: 0.9895\n",
      "Epoch 29/100\n",
      "30/30 [==============================] - 58s 2s/step - loss: 0.0457 - accuracy: 0.9854 - val_loss: 0.0358 - val_accuracy: 0.9888\n",
      "Epoch 30/100\n",
      "30/30 [==============================] - 55s 2s/step - loss: 0.0460 - accuracy: 0.9845 - val_loss: 0.0355 - val_accuracy: 0.9898\n",
      "Epoch 31/100\n",
      "30/30 [==============================] - 62s 2s/step - loss: 0.0419 - accuracy: 0.9860 - val_loss: 0.0389 - val_accuracy: 0.9894\n",
      "Epoch 32/100\n",
      "30/30 [==============================] - 58s 2s/step - loss: 0.0423 - accuracy: 0.9869 - val_loss: 0.0360 - val_accuracy: 0.9894\n",
      "Epoch 33/100\n",
      "30/30 [==============================] - 55s 2s/step - loss: 0.0442 - accuracy: 0.9857 - val_loss: 0.0354 - val_accuracy: 0.9897\n",
      "Epoch 34/100\n",
      "30/30 [==============================] - 57s 2s/step - loss: 0.0403 - accuracy: 0.9866 - val_loss: 0.0345 - val_accuracy: 0.9899\n",
      "Epoch 35/100\n",
      "30/30 [==============================] - 54s 2s/step - loss: 0.0408 - accuracy: 0.9868 - val_loss: 0.0360 - val_accuracy: 0.9893\n",
      "Epoch 36/100\n",
      "30/30 [==============================] - 53s 2s/step - loss: 0.0391 - accuracy: 0.9868 - val_loss: 0.0390 - val_accuracy: 0.9890\n",
      "Epoch 37/100\n",
      "30/30 [==============================] - 56s 2s/step - loss: 0.0391 - accuracy: 0.9863 - val_loss: 0.0367 - val_accuracy: 0.9902\n",
      "Epoch 38/100\n",
      "30/30 [==============================] - 54s 2s/step - loss: 0.0373 - accuracy: 0.9878 - val_loss: 0.0355 - val_accuracy: 0.9901\n",
      "Epoch 39/100\n",
      "30/30 [==============================] - 60s 2s/step - loss: 0.0371 - accuracy: 0.9876 - val_loss: 0.0374 - val_accuracy: 0.9892\n",
      "Epoch 40/100\n",
      "30/30 [==============================] - 60s 2s/step - loss: 0.0322 - accuracy: 0.9889 - val_loss: 0.0348 - val_accuracy: 0.9901\n",
      "Epoch 41/100\n",
      "30/30 [==============================] - 56s 2s/step - loss: 0.0358 - accuracy: 0.9886 - val_loss: 0.0360 - val_accuracy: 0.9898\n",
      "Epoch 42/100\n",
      "30/30 [==============================] - 59s 2s/step - loss: 0.0339 - accuracy: 0.9887 - val_loss: 0.0348 - val_accuracy: 0.9902\n",
      "Epoch 43/100\n",
      "30/30 [==============================] - 59s 2s/step - loss: 0.0363 - accuracy: 0.9882 - val_loss: 0.0370 - val_accuracy: 0.9894\n",
      "Epoch 44/100\n",
      "30/30 [==============================] - 55s 2s/step - loss: 0.0341 - accuracy: 0.9888 - val_loss: 0.0358 - val_accuracy: 0.9891\n",
      "Epoch 45/100\n",
      "30/30 [==============================] - 54s 2s/step - loss: 0.0297 - accuracy: 0.9903 - val_loss: 0.0402 - val_accuracy: 0.9887\n",
      "Epoch 46/100\n",
      "30/30 [==============================] - 58s 2s/step - loss: 0.0332 - accuracy: 0.9896 - val_loss: 0.0381 - val_accuracy: 0.9891\n",
      "Epoch 47/100\n",
      "30/30 [==============================] - 56s 2s/step - loss: 0.0296 - accuracy: 0.9907 - val_loss: 0.0350 - val_accuracy: 0.9903\n",
      "Epoch 48/100\n",
      "30/30 [==============================] - 55s 2s/step - loss: 0.0269 - accuracy: 0.9908 - val_loss: 0.0362 - val_accuracy: 0.9903\n",
      "Epoch 49/100\n",
      "30/30 [==============================] - 55s 2s/step - loss: 0.0286 - accuracy: 0.9898 - val_loss: 0.0346 - val_accuracy: 0.9898\n",
      "Epoch 50/100\n",
      "30/30 [==============================] - 64s 2s/step - loss: 0.0298 - accuracy: 0.9904 - val_loss: 0.0358 - val_accuracy: 0.9895\n",
      "Epoch 51/100\n",
      "30/30 [==============================] - 72s 2s/step - loss: 0.0263 - accuracy: 0.9917 - val_loss: 0.0363 - val_accuracy: 0.9905\n",
      "Epoch 52/100\n",
      "30/30 [==============================] - 61s 2s/step - loss: 0.0302 - accuracy: 0.9896 - val_loss: 0.0382 - val_accuracy: 0.9893\n",
      "Epoch 53/100\n",
      "30/30 [==============================] - 74s 2s/step - loss: 0.0274 - accuracy: 0.9904 - val_loss: 0.0361 - val_accuracy: 0.9902\n",
      "Epoch 54/100\n",
      "30/30 [==============================] - 73s 2s/step - loss: 0.0257 - accuracy: 0.9912 - val_loss: 0.0367 - val_accuracy: 0.9902\n",
      "Epoch 55/100\n",
      "30/30 [==============================] - 74s 3s/step - loss: 0.0254 - accuracy: 0.9917 - val_loss: 0.0353 - val_accuracy: 0.9906\n",
      "Epoch 56/100\n",
      "30/30 [==============================] - 80s 3s/step - loss: 0.0266 - accuracy: 0.9917 - val_loss: 0.0369 - val_accuracy: 0.9898\n",
      "Epoch 57/100\n",
      "30/30 [==============================] - 79s 3s/step - loss: 0.0278 - accuracy: 0.9905 - val_loss: 0.0349 - val_accuracy: 0.9906\n",
      "Epoch 58/100\n",
      "30/30 [==============================] - 84s 3s/step - loss: 0.0258 - accuracy: 0.9915 - val_loss: 0.0364 - val_accuracy: 0.9899\n",
      "Epoch 59/100\n",
      "30/30 [==============================] - 75s 2s/step - loss: 0.0243 - accuracy: 0.9917 - val_loss: 0.0389 - val_accuracy: 0.9902\n",
      "Epoch 60/100\n",
      "30/30 [==============================] - 72s 2s/step - loss: 0.0249 - accuracy: 0.9920 - val_loss: 0.0364 - val_accuracy: 0.9898\n",
      "Epoch 61/100\n",
      "30/30 [==============================] - 65s 2s/step - loss: 0.0223 - accuracy: 0.9927 - val_loss: 0.0372 - val_accuracy: 0.9907\n",
      "Epoch 62/100\n",
      "30/30 [==============================] - 79s 3s/step - loss: 0.0223 - accuracy: 0.9923 - val_loss: 0.0389 - val_accuracy: 0.9903\n",
      "Epoch 63/100\n",
      "30/30 [==============================] - 81s 3s/step - loss: 0.0234 - accuracy: 0.9920 - val_loss: 0.0361 - val_accuracy: 0.9913\n",
      "Epoch 64/100\n",
      "30/30 [==============================] - 81s 3s/step - loss: 0.0228 - accuracy: 0.9927 - val_loss: 0.0334 - val_accuracy: 0.9906\n",
      "Epoch 65/100\n",
      "30/30 [==============================] - 68s 2s/step - loss: 0.0219 - accuracy: 0.9928 - val_loss: 0.0373 - val_accuracy: 0.9900\n",
      "Epoch 66/100\n",
      "30/30 [==============================] - 79s 3s/step - loss: 0.0213 - accuracy: 0.9926 - val_loss: 0.0394 - val_accuracy: 0.9904\n",
      "Epoch 67/100\n",
      "30/30 [==============================] - 81s 3s/step - loss: 0.0214 - accuracy: 0.9928 - val_loss: 0.0382 - val_accuracy: 0.9902\n",
      "Epoch 68/100\n",
      "30/30 [==============================] - 70s 2s/step - loss: 0.0216 - accuracy: 0.9928 - val_loss: 0.0373 - val_accuracy: 0.9906\n",
      "Epoch 69/100\n",
      "30/30 [==============================] - 90s 3s/step - loss: 0.0222 - accuracy: 0.9918 - val_loss: 0.0376 - val_accuracy: 0.9905\n",
      "Epoch 70/100\n",
      "30/30 [==============================] - 82s 3s/step - loss: 0.0216 - accuracy: 0.9930 - val_loss: 0.0376 - val_accuracy: 0.9911\n",
      "Epoch 71/100\n",
      "30/30 [==============================] - 88s 3s/step - loss: 0.0210 - accuracy: 0.9926 - val_loss: 0.0383 - val_accuracy: 0.9901\n",
      "Epoch 72/100\n",
      "30/30 [==============================] - 74s 3s/step - loss: 0.0205 - accuracy: 0.9933 - val_loss: 0.0381 - val_accuracy: 0.9895\n",
      "Epoch 73/100\n",
      "30/30 [==============================] - 67s 2s/step - loss: 0.0216 - accuracy: 0.9924 - val_loss: 0.0392 - val_accuracy: 0.9897\n",
      "Epoch 74/100\n",
      "30/30 [==============================] - 62s 2s/step - loss: 0.0219 - accuracy: 0.9923 - val_loss: 0.0354 - val_accuracy: 0.9904\n",
      "Epoch 75/100\n",
      "30/30 [==============================] - 87s 3s/step - loss: 0.0187 - accuracy: 0.9938 - val_loss: 0.0386 - val_accuracy: 0.9903\n",
      "Epoch 76/100\n",
      "30/30 [==============================] - 80s 3s/step - loss: 0.0192 - accuracy: 0.9938 - val_loss: 0.0364 - val_accuracy: 0.9909\n",
      "Epoch 77/100\n",
      "30/30 [==============================] - 80s 3s/step - loss: 0.0171 - accuracy: 0.9938 - val_loss: 0.0384 - val_accuracy: 0.9914\n",
      "Epoch 78/100\n",
      "30/30 [==============================] - 75s 3s/step - loss: 0.0188 - accuracy: 0.9941 - val_loss: 0.0378 - val_accuracy: 0.9900\n",
      "Epoch 79/100\n",
      "30/30 [==============================] - 69s 2s/step - loss: 0.0180 - accuracy: 0.9939 - val_loss: 0.0412 - val_accuracy: 0.9899\n",
      "Epoch 80/100\n",
      "30/30 [==============================] - 72s 2s/step - loss: 0.0182 - accuracy: 0.9942 - val_loss: 0.0448 - val_accuracy: 0.9890\n",
      "Epoch 81/100\n",
      "30/30 [==============================] - 83s 3s/step - loss: 0.0207 - accuracy: 0.9936 - val_loss: 0.0362 - val_accuracy: 0.9906\n",
      "Epoch 82/100\n",
      "30/30 [==============================] - 81s 3s/step - loss: 0.0198 - accuracy: 0.9937 - val_loss: 0.0389 - val_accuracy: 0.9902\n",
      "Epoch 83/100\n",
      "30/30 [==============================] - 83s 3s/step - loss: 0.0202 - accuracy: 0.9934 - val_loss: 0.0356 - val_accuracy: 0.9907\n",
      "Epoch 84/100\n",
      "30/30 [==============================] - 76s 3s/step - loss: 0.0180 - accuracy: 0.9939 - val_loss: 0.0381 - val_accuracy: 0.9902\n",
      "Epoch 85/100\n",
      "30/30 [==============================] - 71s 2s/step - loss: 0.0205 - accuracy: 0.9933 - val_loss: 0.0356 - val_accuracy: 0.9913\n",
      "Epoch 86/100\n",
      "30/30 [==============================] - 82s 3s/step - loss: 0.0174 - accuracy: 0.9940 - val_loss: 0.0399 - val_accuracy: 0.9912\n",
      "Epoch 87/100\n",
      "30/30 [==============================] - 78s 3s/step - loss: 0.0188 - accuracy: 0.9940 - val_loss: 0.0369 - val_accuracy: 0.9903\n",
      "Epoch 88/100\n",
      "30/30 [==============================] - 69s 2s/step - loss: 0.0182 - accuracy: 0.9940 - val_loss: 0.0363 - val_accuracy: 0.9913\n",
      "Epoch 89/100\n",
      "30/30 [==============================] - 79s 3s/step - loss: 0.0190 - accuracy: 0.9934 - val_loss: 0.0395 - val_accuracy: 0.9907\n",
      "Epoch 90/100\n",
      "30/30 [==============================] - 84s 3s/step - loss: 0.0181 - accuracy: 0.9941 - val_loss: 0.0374 - val_accuracy: 0.9910\n",
      "Epoch 91/100\n",
      "30/30 [==============================] - 82s 3s/step - loss: 0.0167 - accuracy: 0.9942 - val_loss: 0.0405 - val_accuracy: 0.9905\n",
      "Epoch 92/100\n",
      "30/30 [==============================] - 77s 3s/step - loss: 0.0190 - accuracy: 0.9931 - val_loss: 0.0365 - val_accuracy: 0.9906\n",
      "Epoch 93/100\n",
      "30/30 [==============================] - 88s 3s/step - loss: 0.0182 - accuracy: 0.9936 - val_loss: 0.0373 - val_accuracy: 0.9908\n",
      "Epoch 94/100\n",
      "30/30 [==============================] - 83s 3s/step - loss: 0.0154 - accuracy: 0.9948 - val_loss: 0.0376 - val_accuracy: 0.9906\n",
      "Epoch 95/100\n",
      "30/30 [==============================] - 76s 3s/step - loss: 0.0171 - accuracy: 0.9936 - val_loss: 0.0362 - val_accuracy: 0.9912\n",
      "Epoch 96/100\n",
      "30/30 [==============================] - 75s 3s/step - loss: 0.0164 - accuracy: 0.9944 - val_loss: 0.0366 - val_accuracy: 0.9913\n",
      "Epoch 97/100\n",
      "30/30 [==============================] - 91s 3s/step - loss: 0.0137 - accuracy: 0.9951 - val_loss: 0.0393 - val_accuracy: 0.9904\n",
      "Epoch 98/100\n",
      "30/30 [==============================] - 77s 3s/step - loss: 0.0176 - accuracy: 0.9943 - val_loss: 0.0377 - val_accuracy: 0.9904\n",
      "Epoch 99/100\n",
      "30/30 [==============================] - 84s 3s/step - loss: 0.0159 - accuracy: 0.9944 - val_loss: 0.0344 - val_accuracy: 0.9911\n",
      "Epoch 100/100\n",
      "30/30 [==============================] - 85s 3s/step - loss: 0.0143 - accuracy: 0.9951 - val_loss: 0.0396 - val_accuracy: 0.9909\n"
     ]
    }
   ],
   "source": [
    "checkpoint = keras.callbacks.ModelCheckpoint('my_keras_model.h5', monitor='val_accuracy', mode='auto', verbose=1, save_best_only=True)\n",
    "history3 = model3.fit(X_train, y_train, epochs=100, batch_size=1000, validation_data=(X_test, y_test), callbacks=[checkpoint])"
   ]
  },
  {
   "cell_type": "code",
   "execution_count": 30,
   "metadata": {},
   "outputs": [
    {
     "data": {
      "image/png": "[encoded data removed]",
      "text/plain": [
       "<Figure size 640x480 with 1 Axes>"
      ]
     },
     "metadata": {},
     "output_type": "display_data"
    }
   ],
   "source": [
    "plt.plot(history3.history['accuracy'])\n",
    "plt.plot(history3.history['val_accuracy'])\n",
    "plt.title('model accuracy')\n",
    "plt.ylabel('accuracy')\n",
    "plt.xlabel('epoch')\n",
    "plt.legend(['train', 'test'], loc='upper left')\n",
    "plt.show()"
   ]
  },
  {
   "cell_type": "code",
   "execution_count": 31,
   "metadata": {},
   "outputs": [],
   "source": [
    "from sklearn.metrics import confusion_matrix\n",
    "import seaborn as sns"
   ]
  },
  {
   "cell_type": "code",
   "execution_count": 32,
   "metadata": {},
   "outputs": [
    {
     "name": "stdout",
     "output_type": "stream",
     "text": [
      "394/394 [==============================] - 7s 18ms/step\n"
     ]
    }
   ],
   "source": [
    "y_pred = model3.predict(X_test)"
   ]
  },
  {
   "cell_type": "code",
   "execution_count": 33,
   "metadata": {},
   "outputs": [
    {
     "data": {
      "text/plain": [
       "array([[2.0918777e-11, 4.0546321e-16, 2.4592488e-09, ..., 4.2302144e-16,\n",
       "        1.0000000e+00, 3.4970405e-11],\n",
       "       [1.3080514e-13, 1.0000000e+00, 5.2349455e-13, ..., 3.4260446e-09,\n",
       "        8.3003579e-15, 2.5422455e-16],\n",
       "       [1.0284439e-12, 7.6731656e-11, 1.4792367e-13, ..., 1.7620533e-07,\n",
       "        1.9818023e-09, 9.9999976e-01],\n",
       "       ...,\n",
       "       [2.9591452e-14, 2.8815125e-15, 3.4447746e-15, ..., 5.8665643e-13,\n",
       "        2.4669892e-14, 1.2307713e-09],\n",
       "       [2.4347143e-12, 2.4767547e-13, 8.3460718e-13, ..., 4.5690462e-11,\n",
       "        2.2700871e-12, 1.7576303e-08],\n",
       "       [9.9999988e-01, 3.7931984e-12, 2.9481584e-11, ..., 2.7801895e-13,\n",
       "        1.9072299e-09, 5.7163042e-11]], dtype=float32)"
      ]
     },
     "execution_count": 33,
     "metadata": {},
     "output_type": "execute_result"
    }
   ],
   "source": [
    "y_pred"
   ]
  },
  {
   "cell_type": "code",
   "execution_count": 34,
   "metadata": {},
   "outputs": [
    {
     "data": {
      "text/plain": [
       "array([[0., 0., 0., ..., 0., 1., 0.],\n",
       "       [0., 1., 0., ..., 0., 0., 0.],\n",
       "       [0., 0., 0., ..., 0., 0., 1.],\n",
       "       ...,\n",
       "       [0., 0., 0., ..., 0., 0., 0.],\n",
       "       [0., 0., 0., ..., 0., 0., 0.],\n",
       "       [1., 0., 0., ..., 0., 0., 0.]], dtype=float32)"
      ]
     },
     "execution_count": 34,
     "metadata": {},
     "output_type": "execute_result"
    }
   ],
   "source": [
    "y_test"
   ]
  },
  {
   "cell_type": "code",
   "execution_count": 35,
   "metadata": {},
   "outputs": [
    {
     "data": {
      "text/plain": [
       "<Axes: >"
      ]
     },
     "execution_count": 35,
     "metadata": {},
     "output_type": "execute_result"
    },
    {
     "data": {
      "image/png": "[encoded data removed]",
      "text/plain": [
       "<Figure size 640x480 with 2 Axes>"
      ]
     },
     "metadata": {},
     "output_type": "display_data"
    }
   ],
   "source": [
    "confusion = confusion_matrix(y_test.argmax(axis=1), y_pred.argmax(axis=1))\n",
    "sns.heatmap(confusion, annot=True, fmt='g')"
   ]
  },
  {
   "cell_type": "code",
   "execution_count": 36,
   "metadata": {},
   "outputs": [
    {
     "name": "stdout",
     "output_type": "stream",
     "text": [
      "394/394 [==============================] - 7s 18ms/step - loss: 0.0396 - accuracy: 0.9909\n"
     ]
    }
   ],
   "source": [
    "score = model3.evaluate(X_test, y_test)"
   ]
  },
  {
   "cell_type": "markdown",
   "metadata": {},
   "source": [
    "Preparando arquivo submission"
   ]
  },
  {
   "cell_type": "code",
   "execution_count": 37,
   "metadata": {},
   "outputs": [
    {
     "data": {
      "text/html": [
       "<div>\n",
       "<style scoped>\n",
       "    .dataframe tbody tr th:only-of-type {\n",
       "        vertical-align: middle;\n",
       "    }\n",
       "\n",
       "    .dataframe tbody tr th {\n",
       "        vertical-align: top;\n",
       "    }\n",
       "\n",
       "    .dataframe thead th {\n",
       "        text-align: right;\n",
       "    }\n",
       "</style>\n",
       "<table border=\"1\" class=\"dataframe\">\n",
       "  <thead>\n",
       "    <tr style=\"text-align: right;\">\n",
       "      <th></th>\n",
       "      <th>pixel0</th>\n",
       "      <th>pixel1</th>\n",
       "      <th>pixel2</th>\n",
       "      <th>pixel3</th>\n",
       "      <th>pixel4</th>\n",
       "      <th>pixel5</th>\n",
       "      <th>pixel6</th>\n",
       "      <th>pixel7</th>\n",
       "      <th>pixel8</th>\n",
       "      <th>pixel9</th>\n",
       "      <th>...</th>\n",
       "      <th>pixel774</th>\n",
       "      <th>pixel775</th>\n",
       "      <th>pixel776</th>\n",
       "      <th>pixel777</th>\n",
       "      <th>pixel778</th>\n",
       "      <th>pixel779</th>\n",
       "      <th>pixel780</th>\n",
       "      <th>pixel781</th>\n",
       "      <th>pixel782</th>\n",
       "      <th>pixel783</th>\n",
       "    </tr>\n",
       "  </thead>\n",
       "  <tbody>\n",
       "    <tr>\n",
       "      <th>0</th>\n",
       "      <td>0</td>\n",
       "      <td>0</td>\n",
       "      <td>0</td>\n",
       "      <td>0</td>\n",
       "      <td>0</td>\n",
       "      <td>0</td>\n",
       "      <td>0</td>\n",
       "      <td>0</td>\n",
       "      <td>0</td>\n",
       "      <td>0</td>\n",
       "      <td>...</td>\n",
       "      <td>0</td>\n",
       "      <td>0</td>\n",
       "      <td>0</td>\n",
       "      <td>0</td>\n",
       "      <td>0</td>\n",
       "      <td>0</td>\n",
       "      <td>0</td>\n",
       "      <td>0</td>\n",
       "      <td>0</td>\n",
       "      <td>0</td>\n",
       "    </tr>\n",
       "    <tr>\n",
       "      <th>1</th>\n",
       "      <td>0</td>\n",
       "      <td>0</td>\n",
       "      <td>0</td>\n",
       "      <td>0</td>\n",
       "      <td>0</td>\n",
       "      <td>0</td>\n",
       "      <td>0</td>\n",
       "      <td>0</td>\n",
       "      <td>0</td>\n",
       "      <td>0</td>\n",
       "      <td>...</td>\n",
       "      <td>0</td>\n",
       "      <td>0</td>\n",
       "      <td>0</td>\n",
       "      <td>0</td>\n",
       "      <td>0</td>\n",
       "      <td>0</td>\n",
       "      <td>0</td>\n",
       "      <td>0</td>\n",
       "      <td>0</td>\n",
       "      <td>0</td>\n",
       "    </tr>\n",
       "    <tr>\n",
       "      <th>2</th>\n",
       "      <td>0</td>\n",
       "      <td>0</td>\n",
       "      <td>0</td>\n",
       "      <td>0</td>\n",
       "      <td>0</td>\n",
       "      <td>0</td>\n",
       "      <td>0</td>\n",
       "      <td>0</td>\n",
       "      <td>0</td>\n",
       "      <td>0</td>\n",
       "      <td>...</td>\n",
       "      <td>0</td>\n",
       "      <td>0</td>\n",
       "      <td>0</td>\n",
       "      <td>0</td>\n",
       "      <td>0</td>\n",
       "      <td>0</td>\n",
       "      <td>0</td>\n",
       "      <td>0</td>\n",
       "      <td>0</td>\n",
       "      <td>0</td>\n",
       "    </tr>\n",
       "    <tr>\n",
       "      <th>3</th>\n",
       "      <td>0</td>\n",
       "      <td>0</td>\n",
       "      <td>0</td>\n",
       "      <td>0</td>\n",
       "      <td>0</td>\n",
       "      <td>0</td>\n",
       "      <td>0</td>\n",
       "      <td>0</td>\n",
       "      <td>0</td>\n",
       "      <td>0</td>\n",
       "      <td>...</td>\n",
       "      <td>0</td>\n",
       "      <td>0</td>\n",
       "      <td>0</td>\n",
       "      <td>0</td>\n",
       "      <td>0</td>\n",
       "      <td>0</td>\n",
       "      <td>0</td>\n",
       "      <td>0</td>\n",
       "      <td>0</td>\n",
       "      <td>0</td>\n",
       "    </tr>\n",
       "    <tr>\n",
       "      <th>4</th>\n",
       "      <td>0</td>\n",
       "      <td>0</td>\n",
       "      <td>0</td>\n",
       "      <td>0</td>\n",
       "      <td>0</td>\n",
       "      <td>0</td>\n",
       "      <td>0</td>\n",
       "      <td>0</td>\n",
       "      <td>0</td>\n",
       "      <td>0</td>\n",
       "      <td>...</td>\n",
       "      <td>0</td>\n",
       "      <td>0</td>\n",
       "      <td>0</td>\n",
       "      <td>0</td>\n",
       "      <td>0</td>\n",
       "      <td>0</td>\n",
       "      <td>0</td>\n",
       "      <td>0</td>\n",
       "      <td>0</td>\n",
       "      <td>0</td>\n",
       "    </tr>\n",
       "  </tbody>\n",
       "</table>\n",
       "<p>5 rows × 784 columns</p>\n",
       "</div>"
      ],
      "text/plain": [
       "   pixel0  pixel1  pixel2  pixel3  pixel4  pixel5  pixel6  pixel7  pixel8  \\\n",
       "0       0       0       0       0       0       0       0       0       0   \n",
       "1       0       0       0       0       0       0       0       0       0   \n",
       "2       0       0       0       0       0       0       0       0       0   \n",
       "3       0       0       0       0       0       0       0       0       0   \n",
       "4       0       0       0       0       0       0       0       0       0   \n",
       "\n",
       "   pixel9  ...  pixel774  pixel775  pixel776  pixel777  pixel778  pixel779  \\\n",
       "0       0  ...         0         0         0         0         0         0   \n",
       "1       0  ...         0         0         0         0         0         0   \n",
       "2       0  ...         0         0         0         0         0         0   \n",
       "3       0  ...         0         0         0         0         0         0   \n",
       "4       0  ...         0         0         0         0         0         0   \n",
       "\n",
       "   pixel780  pixel781  pixel782  pixel783  \n",
       "0         0         0         0         0  \n",
       "1         0         0         0         0  \n",
       "2         0         0         0         0  \n",
       "3         0         0         0         0  \n",
       "4         0         0         0         0  \n",
       "\n",
       "[5 rows x 784 columns]"
      ]
     },
     "execution_count": 37,
     "metadata": {},
     "output_type": "execute_result"
    }
   ],
   "source": [
    "df_test = pd.read_csv('test.csv')\n",
    "df_test.head()"
   ]
  },
  {
   "cell_type": "code",
   "execution_count": 38,
   "metadata": {},
   "outputs": [
    {
     "data": {
      "text/plain": [
       "(28000, 784)"
      ]
     },
     "execution_count": 38,
     "metadata": {},
     "output_type": "execute_result"
    }
   ],
   "source": [
    "df_test.shape"
   ]
  },
  {
   "cell_type": "code",
   "execution_count": 39,
   "metadata": {},
   "outputs": [],
   "source": [
    "df_test = df_test.values.reshape(df_test.shape[0], 28, 28, 1)"
   ]
  },
  {
   "cell_type": "code",
   "execution_count": 40,
   "metadata": {},
   "outputs": [
    {
     "name": "stdout",
     "output_type": "stream",
     "text": [
      "875/875 [==============================] - 15s 18ms/step\n"
     ]
    }
   ],
   "source": [
    "y_pred_test = model3.predict(df_test)"
   ]
  },
  {
   "cell_type": "code",
   "execution_count": 41,
   "metadata": {},
   "outputs": [],
   "source": [
    "y_pred_test = y_pred_test.argmax(axis=1)"
   ]
  },
  {
   "cell_type": "code",
   "execution_count": 42,
   "metadata": {},
   "outputs": [],
   "source": [
    "id_test = range(1, 28001)"
   ]
  },
  {
   "cell_type": "code",
   "execution_count": 43,
   "metadata": {},
   "outputs": [],
   "source": [
    "df_sub_ids = pd.DataFrame(id_test, columns=['ImageId'], index=id_test)\n",
    "df_sub_preds = pd.DataFrame(y_pred_test, columns=['Label'], index=id_test)"
   ]
  },
  {
   "cell_type": "code",
   "execution_count": 44,
   "metadata": {},
   "outputs": [
    {
     "data": {
      "text/html": [
       "<div>\n",
       "<style scoped>\n",
       "    .dataframe tbody tr th:only-of-type {\n",
       "        vertical-align: middle;\n",
       "    }\n",
       "\n",
       "    .dataframe tbody tr th {\n",
       "        vertical-align: top;\n",
       "    }\n",
       "\n",
       "    .dataframe thead th {\n",
       "        text-align: right;\n",
       "    }\n",
       "</style>\n",
       "<table border=\"1\" class=\"dataframe\">\n",
       "  <thead>\n",
       "    <tr style=\"text-align: right;\">\n",
       "      <th></th>\n",
       "      <th>ImageId</th>\n",
       "      <th>Label</th>\n",
       "    </tr>\n",
       "  </thead>\n",
       "  <tbody>\n",
       "    <tr>\n",
       "      <th>1</th>\n",
       "      <td>1</td>\n",
       "      <td>2</td>\n",
       "    </tr>\n",
       "    <tr>\n",
       "      <th>2</th>\n",
       "      <td>2</td>\n",
       "      <td>0</td>\n",
       "    </tr>\n",
       "    <tr>\n",
       "      <th>3</th>\n",
       "      <td>3</td>\n",
       "      <td>9</td>\n",
       "    </tr>\n",
       "    <tr>\n",
       "      <th>4</th>\n",
       "      <td>4</td>\n",
       "      <td>9</td>\n",
       "    </tr>\n",
       "    <tr>\n",
       "      <th>5</th>\n",
       "      <td>5</td>\n",
       "      <td>3</td>\n",
       "    </tr>\n",
       "  </tbody>\n",
       "</table>\n",
       "</div>"
      ],
      "text/plain": [
       "   ImageId  Label\n",
       "1        1      2\n",
       "2        2      0\n",
       "3        3      9\n",
       "4        4      9\n",
       "5        5      3"
      ]
     },
     "execution_count": 44,
     "metadata": {},
     "output_type": "execute_result"
    }
   ],
   "source": [
    "df_submission = pd.concat([df_sub_ids, df_sub_preds], axis=1)\n",
    "df_submission.head()"
   ]
  },
  {
   "cell_type": "code",
   "execution_count": 45,
   "metadata": {},
   "outputs": [],
   "source": [
    "df_submission.to_csv('sample_submission.csv', index=False)"
   ]
  },
  {
   "cell_type": "code",
   "execution_count": null,
   "metadata": {},
   "outputs": [],
   "source": []
  }
 ],
 "metadata": {
  "colab": {
   "provenance": []
  },
  "kernelspec": {
   "display_name": "Python 3 (ipykernel)",
   "language": "python",
   "name": "python3"
  },
  "language_info": {
   "codemirror_mode": {
    "name": "ipython",
    "version": 3
   },
   "file_extension": ".py",
   "mimetype": "text/x-python",
   "name": "python",
   "nbconvert_exporter": "python",
   "pygments_lexer": "ipython3",
   "version": "3.11.5"
  }
 },
 "nbformat": 4,
 "nbformat_minor": 1
}
